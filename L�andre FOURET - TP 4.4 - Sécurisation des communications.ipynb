{
  "cells": [
    {
      "cell_type": "markdown",
      "metadata": {
        "id": "vuMhXmnQfKyT"
      },
      "source": [
        "#Cryptographie - Les Bases\n",
        "\n",
        "La **cryptographie** est l'art d'empecher la lecture d'un message par n'importe qui, réservant uniquement son contenu à la personne souhaitée. Le principe étant qu'au premier abort, le message n'en soit plus un. \n",
        "\n",
        "Si le terme de **chiffrement** est assez vague, il faut distinguer 2 démarches : \n",
        "* **le codage**\n",
        "* **le chiffrage**\n",
        "\n",
        "\n",
        "Ce sont 2 démarches **différentes**. Pour les distinguer il faut prendre en compte le message. Prenons pour exemple un texte en français. \n",
        "\n",
        "Le **codage** correspondra au fait de **travailler sur les mots**. Par exemple, la traduction du texte vers l'anglais sera considéré comme une forme de codage. Il nécessite un tableau de correspondance. On l'appelle souvant **dictionnaire**. \n",
        "\n",
        "Le **chiffrage** correspondra au fait de **travailler sur les lettres**. Si nous inversions toutes les lettres (1ère avec dernière, 2ème avec avant-dernière, etc.) nous obtiendrons une forme de **chiffrage basique**. Par contre, pour être plus rigoureux, il faudrait **prendre en compte les caractères** et non-pas uniquement les lettres. Ainsi, même **la taille des mots** serait modifiée.\n",
        "\n",
        "\n",
        "Dans cette activité nous n'allons étudier que le **chiffrage**. Cependant nous allons encore séparer en 2 catégories :\n",
        "* le chiffrage **symétrique**\n",
        "* le chiffrage **asymétrique**\n",
        "\n",
        "---\n",
        "\n",
        "**Ressources** :\n",
        "\n",
        "Vous pouvez consulter [la définition Wikipédia](https://fr.wikipedia.org/wiki/Cryptographie#:~:text=La%20cryptographie%20est%20une%20des,souvent%20de%20secrets%20ou%20cl%C3%A9s) pour plus d'informations. \n",
        "\n",
        "Voici une page très riche sur le chiffrement et Python : [Lien](https://www.tutorialspoint.com/cryptography_with_python/cryptography_with_python_quick_guide.htm). \n",
        "\n",
        "Doc de la librairie PyDes : [Lien](http://pydes.sourceforge.net/)\n"
      ]
    },
    {
      "cell_type": "markdown",
      "metadata": {
        "id": "E8SIvAk7fQhS"
      },
      "source": [
        "---\n",
        "## Chiffrement Symétrique"
      ]
    },
    {
      "cell_type": "markdown",
      "metadata": {
        "id": "5ISG1MUKxjSy"
      },
      "source": [
        "### Explication\n",
        "\n",
        "Les méthodes de **chiffrement symétriques** utilisent **une même clé** pour **chiffrer et déchiffrer** un message. C'est ce qui rend ces méthodes très simples à comprendre. \n",
        "\n",
        "Cela a pour avantage d'être simple à mettre en oeuvre, une fois que nous **disposons de la clé**, nous pouvons à notre guise **chiffrer ou déchiffrer**. \n",
        "\n",
        "Par contre, **pour que 2 personnes** puissent discuter en utilisant un tel algorithme de chiffrage, ils doivent **préalablement s'être communiqué la clé**, **en clair**, par un moyen quelquonque. C'est un **inconvénient** important.\n",
        "\n",
        "On compte bon nombre d'algorithmes de chiffrements symétriques. Parmi les plus connus on peut trouver : \n",
        "* DES, 3DES \n",
        "* AES\n",
        "* IDEA\n",
        "* RC4, RC5\n",
        "* etc.\n",
        "\n",
        "Lien vers une vidéo reprennant ces notions : https://www.youtube.com/watch?v=CW9d9UrRasA\n"
      ]
    },
    {
      "cell_type": "markdown",
      "metadata": {
        "id": "V0nlPz12ABKq"
      },
      "source": [
        "### ***Activité 1***\n",
        "\n",
        "Après avoir visionné la vidéo précédente, implémenter le chiffrement de César en créant une fonction cesar qui prend deux paramètres:\n",
        "\n",
        "- le message : une chaîne de caractères à (dé)coder.\n",
        "- n un entier qui donne le décalage.\n",
        "\n",
        "Cette fonction doit convertir le message en majuscule, et décaler toutes les lettres de n grâce au codage César, et laisser tous les autres caractères inchangés(ponctuation)."
      ]
    },
    {
      "cell_type": "code",
      "execution_count": 29,
      "metadata": {
        "id": "1zDl1Vw_AZ7T"
      },
      "outputs": [
        {
          "name": "stdout",
          "output_type": "stream",
          "text": [
            "Ʉɝəɦɦəȡȵɢɨɣɝɢə əɧɨ ɩɢ ɢəɦɘ ȜȽɠ ɕɝɡə ɤɣɟ˝ɡɣɢ ɗə ɚɣɩȝ\n",
            "Pierre-Antoine est un nerd (Il aime pokémon ce fou)\n"
          ]
        }
      ],
      "source": [
        "## Réponse\n",
        "def cesar (message,n):\n",
        "\n",
        "    result = []\n",
        "    for lettre in message:\n",
        "        if lettre == ' ':\n",
        "            result.append(' ')\n",
        "        else:\n",
        "            new = chr(ord(lettre)+n)\n",
        "            result.append(new)\n",
        "    \n",
        "    message_coded = ''.join(result)\n",
        "    return message_coded\n",
        "\n",
        "#Chiffrement et déchiffrement avec un décalage de 500\n",
        "\n",
        "encoded = cesar('Pierre-Antoine est un nerd (Il aime pokémon ce fou)',500)\n",
        "print(encoded)\n",
        "print(cesar(encoded,-500))\n"
      ]
    },
    {
      "cell_type": "markdown",
      "metadata": {
        "id": "vEMt8q6litz1"
      },
      "source": [
        "---\n",
        "### Le chiffrement DES\n",
        " \n",
        "\n",
        "Nous allons faire un exemple en utilisant un chiffrement très robuste : **DES**.\n",
        "\n",
        "Il va nous falloir utiliser la bibliothèque **pyDES**. Mais comme elle n'est pas **standard** dans Colaboratory, nous alons devoir l'installer avant de pouvoir la charger, puis l'utiliser."
      ]
    },
    {
      "cell_type": "code",
      "execution_count": 1,
      "metadata": {
        "colab": {
          "base_uri": "https://localhost:8080/"
        },
        "id": "PwGTcSHglDZn",
        "outputId": "8426b055-666d-4cc3-f3e9-339a5603bec3"
      },
      "outputs": [
        {
          "name": "stdout",
          "output_type": "stream",
          "text": [
            "Collecting pyDes\n",
            "  Downloading pyDes-2.0.1.tar.gz (9.9 kB)\n",
            "Building wheels for collected packages: pyDes\n",
            "  Building wheel for pyDes (setup.py) ... \u001b[?25l\u001b[?25hdone\n",
            "  Created wheel for pyDes: filename=pyDes-2.0.1-py2.py3-none-any.whl size=9565 sha256=4b84e3e0ce6521b89af2cd50d916ee6e29482e3256d6e7b3e408f61fec44ee55\n",
            "  Stored in directory: /root/.cache/pip/wheels/57/45/3a/cd3cffc8044aa6b8670109a57db784cc7c64dc52259a11575a\n",
            "Successfully built pyDes\n",
            "Installing collected packages: pyDes\n",
            "Successfully installed pyDes-2.0.1\n"
          ]
        }
      ],
      "source": [
        "from pyDes import *         # Importation de pyDES pour pouvoir l'utiliser dans python"
      ]
    },
    {
      "cell_type": "markdown",
      "metadata": {
        "id": "uHbvs1R5qbzD"
      },
      "source": [
        "---\n",
        "### Chiffrement \n",
        "\n",
        "En premier lieu il nous faut une **clé** et un **message**. Pour la clé nous prendrons une chaine de 8 Octets, ce qui fait 8 x 8 = 64 bits.\n",
        "\n",
        "Pour votre information, à l'heure de l'écriture de ce document (avril 2021), la **taille de clé recommandée** pour un **chiffrement symétrique efficace** est **128**. Vous pouvez "
      ]
    },
    {
      "cell_type": "code",
      "execution_count": 2,
      "metadata": {
        "id": "llJ03Z62qeWo"
      },
      "outputs": [],
      "source": [
        "message = b\"Voici une bien jolie phrase pour tester le chiffrement.\"    # Message que nous cherchons à chiffrer\n",
        "cle = b\"01234567\"                                                       # La clé de chiffrement"
      ]
    },
    {
      "cell_type": "markdown",
      "metadata": {
        "id": "-4Zcsk8CsBOd"
      },
      "source": [
        "A présent nous allons **chiffrer** le message en utilisant la clé."
      ]
    },
    {
      "cell_type": "code",
      "execution_count": 3,
      "metadata": {
        "colab": {
          "base_uri": "https://localhost:8080/"
        },
        "id": "CwHeggnQsGvB",
        "outputId": "d981eace-60c6-406c-b34e-f4b53477e591"
      },
      "outputs": [
        {
          "name": "stdout",
          "output_type": "stream",
          "text": [
            "b'Voici une bien jolie phrase pour tester le chiffrement.'\n",
            "b'V\\x97\\xc2:\\xb9\\x06\\xef\\xba\\xa6V\\x9e\\xb4\\xb5qmz@\\x9c\\x9fyyWa\\x86(*U\\xe8\\r\\x12\\xe4\\x02\\xb3A\\xdf\\xa5j>\\x03\\xd5k1l\\xb8\\x1d\\xb36\\xa3v\\x9f\\x7f\\x05\\xa9j\\x1dx'\n"
          ]
        }
      ],
      "source": [
        "outilDeChiffrement = des( cle, padmode=PAD_PKCS5)                       # Création d'un outil de chiffrage\n",
        "\n",
        "messageChiffreDES = outilDeChiffrement.encrypt( message )               # Création du message chiffré à l'aide de l'outil de chiffrage\n",
        "\n",
        "print(message)                                                          # On affiche le message\n",
        "\n",
        "print(messageChiffreDES)                                                # On affiche le message chiffré"
      ]
    },
    {
      "cell_type": "markdown",
      "metadata": {
        "id": "UiQ9m5pfx8-i"
      },
      "source": [
        "---\n",
        "### Déchiffrement\n",
        "\n",
        "Essayons maintenant de **déchiffrer** le message, si nous disposions de la **clé**..."
      ]
    },
    {
      "cell_type": "code",
      "execution_count": 41,
      "metadata": {
        "colab": {
          "base_uri": "https://localhost:8080/"
        },
        "id": "WkxP-ZXEyFbm",
        "outputId": "c9f964b1-bffa-466e-9f1d-0f623c4d28e5"
      },
      "outputs": [
        {
          "name": "stdout",
          "output_type": "stream",
          "text": [
            "b'Voici une bien jolie phrase pour tester le chiffrement.'\n"
          ]
        }
      ],
      "source": [
        "cle2 = b\"01234567\"                                                      # Nous créons une autre clé pour être certain !\n",
        "\n",
        "outilDeChiffrement2 = des( cle2, padmode=PAD_PKCS5)                     # Nous créons un autre autre outil de chiffrement pour être certain !\n",
        "\n",
        "zeMessageFromDES = outilDeChiffrement2.decrypt(b'V\\x97\\xc2:\\xb9\\x06\\xef\\xba\\xa6V\\x9e\\xb4\\xb5qmz@\\x9c\\x9fyyWa\\x86(*U\\xe8\\r\\x12\\xe4\\x02\\xb3A\\xdf\\xa5j>\\x03\\xd5k1l\\xb8\\x1d\\xb36\\xa3v\\x9f\\x7f\\x05\\xa9j\\x1dx')       # Nous recréons le message original à partir du message chiffré\n",
        "\n",
        "print(zeMessageFromDES)                                                 # Nous affichons le message déchiffré"
      ]
    },
    {
      "cell_type": "markdown",
      "metadata": {
        "id": "iL8W-vRwBQ6Z"
      },
      "source": [
        "### ***Activité 2*** \n",
        "\n",
        "Imaginons que la clé de chiffrement d'un message soit contenue dans un fichier \"cle.txt\", et que le message devant être chiffré se trouve dans un fichier \"message.txt\". \n",
        "\n",
        "En utilisant les scipts précédents, écrire une fonction Python prenant en argument ces deux fichiers, et permettant d'écrire dans un nouveau fichier \"réponse.txt\" le message chiffré à l'aide de la clé de chiffrement. "
      ]
    },
    {
      "cell_type": "code",
      "execution_count": 43,
      "metadata": {
        "id": "mIr5zn1UEMQ2"
      },
      "outputs": [
        {
          "name": "stdout",
          "output_type": "stream",
          "text": [
            "[*] Message : 'Message via fichier distant' chiffré avec succès [*]\n"
          ]
        }
      ],
      "source": [
        "from pyDes import *\n",
        "\n",
        "def des_fichiers():\n",
        "    #Aller chercher le message et la clé\n",
        "    message = open('message.txt','r').readline()\n",
        "    cle = open('cle.txt','r').readline()\n",
        "\n",
        "    #Chiffrer le message\n",
        "    chiffrement = des(cle,padmode=PAD_PKCS5)\n",
        "    chiffré = chiffrement.encrypt(message)\n",
        "\n",
        "    #Mettre la réponse dans un nouveau fichier\n",
        "    answer_file = open(\"réponse.txt\",\"w+\").write(str(chiffré))\n",
        "    \n",
        "    print(f\"[*] Message : '{message}' chiffré avec succès [*]\")\n",
        "des_fichiers()"
      ]
    },
    {
      "cell_type": "markdown",
      "metadata": {
        "id": "PyKcnBVSfU6y"
      },
      "source": [
        "---\n",
        "## Asymétrique"
      ]
    },
    {
      "cell_type": "markdown",
      "metadata": {
        "id": "PoYAYeLLxacz"
      },
      "source": [
        "### Explication\n",
        "\n",
        "Le chiffrement asymétrique est **un peu plus complexe** à comprendre. Le système fonctionne avec **2 clés distinctes** :\n",
        "* La première est dite **\"publique\"**, elle sert à **chiffrer** le message. \n",
        "* La seconde est dite **\"privée\"**, elle sert à **déchiffrer** le message. \n",
        "\n",
        "Le fonctionnement est donc **plus complexe** en soi, mais sa **mise en oeuvre** par des personnes voulant communiquer est bien plus simple.\n",
        "\n",
        "**Chacun de son côté**, les protagonistes **générent leur paire de clé**. \n",
        "\n",
        "Les 4 clés seront donc naturellement différentes. \n",
        "\n",
        "Comme la **clé** qui sert à chiffrer **ne permet pas de déchiffrer**, elle n'a **pas besoin d'être secrète**. C'est pour cela qu'elle est appelée **publique**. Ainsi, n'importe qui peut **chiffrer** un message à destination d'une personne, en **utilisant sa clé publique**. \n",
        "\n",
        "Mais **seule la personne** qui détient la **clé de déchiffrement** pourra  **déchiffrer le message**. C'est pour cela que **cette clé est appelée privée**. Elle doit **absolument rester secrète**. \n",
        "\n",
        "Le plus connu et utilisé des **algorithmes de chiffrement asymétrique** est actuellement **RSA**. Nous allons le mettre en oeuvre rapidement."
      ]
    },
    {
      "cell_type": "markdown",
      "metadata": {
        "id": "35p90S2s1U2t"
      },
      "source": [
        "---\n",
        "### Préparation \n",
        "\n",
        "Cet algorithme utilise des **clés de grande taille** pour plus de sécurité. Nous n'allons plus pouvoir utiliser des chaines de \"notre choix\" car ces **2 clés constituent un couple**, et doivent être générée en même temps. \n",
        "\n",
        "Comme pour l'algorithme DES, nous allons commencer par installer la bibliothèque correspondante. "
      ]
    },
    {
      "cell_type": "code",
      "execution_count": 5,
      "metadata": {
        "colab": {
          "base_uri": "https://localhost:8080/"
        },
        "id": "Y7fYs591fJqa",
        "outputId": "4aa1ef68-854a-4406-a857-7759151d561f"
      },
      "outputs": [
        {
          "name": "stdout",
          "output_type": "stream",
          "text": [
            "Requirement already satisfied: pycryptodome in /usr/local/lib/python3.7/dist-packages (3.12.0)\n"
          ]
        }
      ],
      "source": [
        "from Crypto.PublicKey import RSA      # Importation de tout ce qui est nécessaire\n",
        "from Crypto.Cipher import PKCS1_OAEP\n",
        "from Crypto.Signature import PKCS1_v1_5\n",
        "from Crypto.Hash import SHA512, SHA384, SHA256, SHA, MD5\n",
        "from Crypto import Random\n",
        "from base64 import b64encode, b64decode\n",
        "hash = \"SHA-256\""
      ]
    },
    {
      "cell_type": "markdown",
      "metadata": {
        "id": "2DLClYzTeB_R"
      },
      "source": [
        "Histoire de faire les choses un peu plus sérieusement, nous allons créer quelques fonctions que nous utiliserons juste après. "
      ]
    },
    {
      "cell_type": "code",
      "execution_count": null,
      "metadata": {
        "id": "QFP7s47OEivp"
      },
      "outputs": [],
      "source": [
        "def generation_cle(keysize):                      # Fonction pour générer la paire de clés\n",
        "   random_generator = Random.new().read           # - Nous utilisons un générateur aléatoire\n",
        "   key = RSA.generate(keysize, random_generator)  # - Génération de la clé privée\n",
        "   private, public = key, key.publickey()         # - Génération de l'homologue publique\n",
        "   return public, private\n",
        "\n",
        "def chiffrage(message, pub_key):                  # Fonction de chiffrement\n",
        "   outilDeChiffrement = PKCS1_OAEP.new(pub_key)   # - On crée l'outil de chiffrement\n",
        "   return outilDeChiffrement.encrypt(message)     # - On chiffre le message\n",
        "\n",
        "def dechiffrage(ciphertext, priv_key):            # Fonction de déchiffrement\n",
        "   outilDeChiffrement = PKCS1_OAEP.new(priv_key)  # - On crée l'outil de déchiffrement\n",
        "   return outilDeChiffrement.decrypt(ciphertext)  # - On déchiffre le message"
      ]
    },
    {
      "cell_type": "markdown",
      "metadata": {
        "id": "LnXOaPkGg72Y"
      },
      "source": [
        "---\n",
        "### Chiffrement \n",
        "\n",
        "A présent il ne nous reste plus qu'à utiliser nos fonctions. "
      ]
    },
    {
      "cell_type": "code",
      "execution_count": 47,
      "metadata": {
        "colab": {
          "base_uri": "https://localhost:8080/"
        },
        "id": "wWqkg8nLGAn7",
        "outputId": "e6ad056f-a6fb-4a79-c003-c8db5fc7873c"
      },
      "outputs": [
        {
          "name": "stdout",
          "output_type": "stream",
          "text": [
            "b'\\xcb\\x12K\\x85X3\\x90W\\xd3;\\x9e\\xbd\\x8d\\x04\\xf2\\xdc\\x8a\\xda\\xd3\\x81\\x07\\x87i\\x1a\\xde\\xba\\xa9\\xb5Z6\\xbe\\x83\\xf7`z\\x88\\x92\\xb4q-\\x11V\\x91\\xdc\\xf23\\x8a\\xd9\\x05E\\x0b\\xa9\\xbe\\xd1\\xbd[\\xc7\\xe7\\xaco71\\xa2`\\xdc\\xab\\x1b\\x15\\x0es\\xb5A\\xf0\\xd8\\xfc\\xa5\\\\\\x1c\\x18^\\xe20\\xcd\\x05FY<\\xc2\\xd7A\\xba\\xae\\xad\\\\7\\xf8\\x89\\xdd\\x18\\xcc\\x18E\\xea%\\xc3=f7\\xa4h\\x1b\\x19b,\\xe9;O\\xae\\xbd0$i0u\\xd4\\xe1\\xb6w'\n"
          ]
        }
      ],
      "source": [
        "message = b\"Voici une bien jolie phrase pour tester le chiffrement.\"\n",
        "#Fonctions nécéssaires\n",
        "from Crypto import Random\n",
        "from Crypto.PublicKey import RSA      \n",
        "from Crypto.Cipher import PKCS1_OAEP\n",
        "\n",
        "def generation_cle(keysize):                      \n",
        "   random_generator = Random.new().read           \n",
        "   key = RSA.generate(keysize, random_generator)  \n",
        "   private, public = key, key.publickey()         \n",
        "   return public, private\n",
        "\n",
        "def chiffrage(message, pub_key):                  \n",
        "   outilDeChiffrement = PKCS1_OAEP.new(pub_key)   \n",
        "   return outilDeChiffrement.encrypt(message)   \n",
        "#########################\n",
        "\n",
        "clePublique, clePrivee = generation_cle(1024)       # On génére une paire de clés de 1024 bits\n",
        "\n",
        "messageCode = chiffrage(message, clePublique)       # On chiffre le message\n",
        "\n",
        "print(messageCode)                                  # On affiche le message chiffré"
      ]
    },
    {
      "cell_type": "markdown",
      "metadata": {
        "id": "3mKYvdUgh9I6"
      },
      "source": [
        "---\n",
        "### Déchiffrement\n",
        "\n",
        "Et pour le déchiffrement c'est aussi simple."
      ]
    },
    {
      "cell_type": "code",
      "execution_count": 49,
      "metadata": {
        "colab": {
          "base_uri": "https://localhost:8080/"
        },
        "id": "zo2V9G4PJcZ9",
        "outputId": "17707218-78b0-4362-b89b-306b8590db5d"
      },
      "outputs": [
        {
          "name": "stdout",
          "output_type": "stream",
          "text": [
            "b'Voici une bien jolie phrase pour tester le chiffrement.'\n"
          ]
        }
      ],
      "source": [
        "#########\n",
        "from Crypto import Random\n",
        "from Crypto.PublicKey import RSA      \n",
        "from Crypto.Cipher import PKCS1_OAEP\n",
        "def dechiffrage(ciphertext, priv_key):            \n",
        "   outilDeChiffrement = PKCS1_OAEP.new(priv_key)\n",
        "   return outilDeChiffrement.decrypt(ciphertext)\n",
        "##########\n",
        "\n",
        "messageCode = b'\\xcb\\x12K\\x85X3\\x90W\\xd3;\\x9e\\xbd\\x8d\\x04\\xf2\\xdc\\x8a\\xda\\xd3\\x81\\x07\\x87i\\x1a\\xde\\xba\\xa9\\xb5Z6\\xbe\\x83\\xf7`z\\x88\\x92\\xb4q-\\x11V\\x91\\xdc\\xf23\\x8a\\xd9\\x05E\\x0b\\xa9\\xbe\\xd1\\xbd[\\xc7\\xe7\\xaco71\\xa2`\\xdc\\xab\\x1b\\x15\\x0es\\xb5A\\xf0\\xd8\\xfc\\xa5\\\\\\x1c\\x18^\\xe20\\xcd\\x05FY<\\xc2\\xd7A\\xba\\xae\\xad\\\\7\\xf8\\x89\\xdd\\x18\\xcc\\x18E\\xea%\\xc3=f7\\xa4h\\x1b\\x19b,\\xe9;O\\xae\\xbd0$i0u\\xd4\\xe1\\xb6w'\n",
        "\n",
        "\n",
        "messageRecu = dechiffrage(messageCode, clePrivee)   # On déchiffre le message\n",
        "\n",
        "print(messageRecu)                                  # On affiche le message déchiffré"
      ]
    },
    {
      "cell_type": "markdown",
      "metadata": {
        "id": "s30NYBLMip0O"
      },
      "source": [
        "---\n",
        "# Conclusion\n",
        "\n",
        "Nous venons de mettre en oeuvre **2 algorithmes de chiffrage**. \n",
        "\n",
        "Le premier est **symétrique** et le second est **asymétrique**. \n",
        "\n",
        "\n",
        "De nos jours **la majorité des communications d'internet** utilisent régulièrement ce genre de protocoles pour **sécuriser les communications**.\n",
        "\n",
        "\n"
      ]
    },
    {
      "cell_type": "markdown",
      "metadata": {
        "id": "rR_DSXfqE23u"
      },
      "source": [
        "-----\n",
        "# Sécurisation des communications\n",
        "\n",
        "Voici une vidéo assez synthétique reprennant les notions précédentes :\n",
        "https://www.youtube.com/watch?v=7W7WPMX7arI\n",
        "\n",
        "A l'aide de ce lien et des recherches personnelles, répondre aux questions suivantes :\n",
        "\n",
        "1. Expliquer ce qu'est une \" attaque par l'homme du milieu\" \n",
        "\n",
        "    \n"
      ]
    },
    {
      "cell_type": "markdown",
      "metadata": {
        "id": "R0BCs4YFM7oV"
      },
      "source": [
        "*Réponse :*\n",
        "\n",
        "Habituellement, pour communiquer et aller sur Internet, l'ordinateur de l'utilisateur envoie des requêtes à un server.<br>\n",
        "    Mais ce qu'il se passer, c'est qu'un hacker se place entre le servers et l'ordinateur (il se fait donc passer pour un routeur).<br>\n",
        "    Par conséquent, le hacker peut voir les requêtes envoyées, récupérér les informations sensibles et modifier les requêtes."
      ]
    },
    {
      "cell_type": "markdown",
      "metadata": {
        "id": "87YaQTDhM28Z"
      },
      "source": [
        "\n",
        "2. Qu'est ce que le protocole HTTPS ? Quel protocole utilise t-il ?\n",
        "\n"
      ]
    },
    {
      "cell_type": "markdown",
      "metadata": {
        "id": "0dMqMi2FM5TE"
      },
      "source": [
        "Réponse :\n",
        "\n",
        "On connaît déjà le protocole HTTP qui permet de communiquer avec des servers sur Internet. Mais avec le développement d'Internet et, entre autres, des attaques\n",
        "Man-in-the-Middle, il est devenu nécéssaire de chiffrer ces communications sur Internet. Le protocol HTTPS à été créé, extension au protocole HTTP sui permet de ne pas afficher les informations en clair lors des communications. Il utilise deux techniques de chiffrement asymétriques principale, le TLS et ls SSL.\n"
      ]
    },
    {
      "cell_type": "markdown",
      "metadata": {
        "id": "YM8FiRqlNAaV"
      },
      "source": [
        "\n",
        "3. Qu'est ce qu'un certificat ? A quoi sert-il ? Par qui est il délivré ?\n"
      ]
    },
    {
      "cell_type": "markdown",
      "metadata": {
        "id": "dTVeq3w2NC9G"
      },
      "source": [
        "*Réponse :*\n",
        "\n",
        "Un certificat est une sorte de pièce d'identité numarique permettant d'identifier le site Web et de savoir que sa connexion est sécurisée.<br>\n",
        "Les autorités de certification délivrent les différents certificats."
      ]
    },
    {
      "cell_type": "markdown",
      "metadata": {
        "id": "lDXDz1exNEgy"
      },
      "source": [
        "\n",
        "4. Aller sur le site https://www.sepro.org/\n",
        "Donnez les détails du certificat :\n",
        "- par qui a t il été délivré ? \n",
        "- Quel est sa date de validité ?\n",
        "- Quel est l'agorithme de chiffrement utilisé ? \n",
        "- La clé publique est définie sur combien de bit ?"
      ]
    },
    {
      "cell_type": "markdown",
      "metadata": {
        "id": "mFgDv6gqNFpE"
      },
      "source": [
        "*Réponse :*\n",
        "\n",
        "- Let's Encrypt\n",
        "\n",
        "- Du mardi 30 janvier 2024 au lundi 29 avril 2024\n",
        "\n",
        "- RSA\n",
        "\n",
        "- 4096"
      ]
    }
  ],
  "metadata": {
    "colab": {
      "collapsed_sections": [],
      "name": "Activité - NSI - Term - Les bases de la cryptographie.ipynb",
      "provenance": [],
      "toc_visible": true
    },
    "kernelspec": {
      "display_name": "Python 3",
      "name": "python3"
    },
    "language_info": {
      "codemirror_mode": {
        "name": "ipython",
        "version": 3
      },
      "file_extension": ".py",
      "mimetype": "text/x-python",
      "name": "python",
      "nbconvert_exporter": "python",
      "pygments_lexer": "ipython3",
      "version": "3.11.7"
    }
  },
  "nbformat": 4,
  "nbformat_minor": 0
}
